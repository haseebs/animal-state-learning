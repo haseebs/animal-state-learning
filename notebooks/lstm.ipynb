{
 "cells": [
  {
   "cell_type": "code",
   "execution_count": 1,
   "id": "alternate-kernel",
   "metadata": {},
   "outputs": [],
   "source": [
    "from tqdm import tqdm\n",
    "import torch\n",
    "from torch import nn\n",
    "import matplotlib.pyplot as plt"
   ]
  },
  {
   "cell_type": "code",
   "execution_count": 2,
   "id": "sealed-flooring",
   "metadata": {
    "jupyter": {
     "source_hidden": true
    },
    "tags": []
   },
   "outputs": [],
   "source": [
    "import itertools\n",
    "import dm_env\n",
    "from dm_env import specs\n",
    "import numpy as np\n",
    "from typing import Tuple\n",
    "\n",
    "\n",
    "class Stimulus:\n",
    "    def __init__(self, activation_length: int):\n",
    "        self.active = False\n",
    "        self.activation_length = activation_length\n",
    "        self.onset = None\n",
    "        self.activation_steps = 0\n",
    "\n",
    "    def set_onset(self, onset):\n",
    "        self.onset = onset\n",
    "\n",
    "    def tick(self, time_step):\n",
    "        if self.active:\n",
    "            if self.activation_steps >= self.activation_length:\n",
    "                self.active = False\n",
    "                self.activation_steps = 0\n",
    "            self.activation_steps += 1\n",
    "        else:\n",
    "            if self.onset == time_step:\n",
    "                self.active = True\n",
    "                self.activation_steps = 1\n",
    "\n",
    "    def get_value(self):\n",
    "        return int(self.active)\n",
    "\n",
    "\n",
    "class TraceConditioning(dm_env.Environment):\n",
    "    def __init__(self, seed: int, ISI_interval: Tuple[int, int], ITI_interval: Tuple[int, int], gamma: float,\n",
    "                 num_distractors: int, activation_lengths: dict):\n",
    "        self.num_US = 1\n",
    "        self.num_CS = 1\n",
    "\n",
    "        self.ISI_interval = ISI_interval\n",
    "        self.ITI_interval = ITI_interval\n",
    "        self.gamma = gamma\n",
    "\n",
    "        self.US = Stimulus(activation_lengths[\"US\"])\n",
    "        self.CS = Stimulus(activation_lengths[\"CS\"])\n",
    "\n",
    "        self.num_distractors = num_distractors\n",
    "        self.distractors_probs = 1. / np.arange(10, 110, 10)\n",
    "        self.distractors = [Stimulus(activation_lengths[\"distractor\"]) for _ in range(self.num_distractors)]\n",
    "\n",
    "        self.time_step = None\n",
    "        self.trial_start = None\n",
    "        self.rand_num_generator = np.random.RandomState(seed)\n",
    "\n",
    "    def reset(self):\n",
    "        self.time_step = 0\n",
    "        self.trial_start = 0\n",
    "        self.configure_trial()\n",
    "        self.configure_distractors()\n",
    "        self.tick()\n",
    "        return dm_env.restart(self.observation())\n",
    "\n",
    "    def step(self, _):\n",
    "        self.time_step += 1\n",
    "        if self.time_step == self.trial_start:\n",
    "            self.configure_trial()\n",
    "        self.configure_distractors()\n",
    "        self.tick()\n",
    "        return dm_env.TimeStep(dm_env.StepType.MID, self.cumulant(), self.gamma,\n",
    "                               self.observation())\n",
    "\n",
    "    def configure_trial(self):\n",
    "        self.CS.set_onset(self.time_step)\n",
    "        ISI = self.rand_num_generator.randint(self.ISI_interval[0], self.ISI_interval[1] + 1)\n",
    "        self.US.set_onset(self.time_step + ISI)\n",
    "        ITI = self.rand_num_generator.randint(self.ITI_interval[0], self.ITI_interval[1] + 1)\n",
    "        self.trial_start = self.time_step + ISI + ITI\n",
    "\n",
    "    def configure_distractors(self):\n",
    "        for d, distractor in enumerate(self.distractors):\n",
    "            if (not distractor.active) and self.rand_num_generator.rand() < self.distractors_probs[d]:\n",
    "                distractor.set_onset(self.time_step)\n",
    "\n",
    "    def tick(self):\n",
    "        self.US.tick(self.time_step)\n",
    "        self.CS.tick(self.time_step)\n",
    "        for d, distractor in enumerate(self.distractors):\n",
    "            distractor.tick(self.time_step)\n",
    "\n",
    "    def cumulant(self):\n",
    "        return self.US.get_value()\n",
    "\n",
    "    def observation(self):\n",
    "        observations = np.zeros(self.num_US + self.num_CS + self.num_distractors)\n",
    "        observations[0] = self.US.get_value()\n",
    "        observations[1] = self.CS.get_value()\n",
    "        for d, distractor in enumerate(self.distractors):\n",
    "            observations[d + self.num_US + self.num_CS] = distractor.get_value()\n",
    "        return observations\n",
    "\n",
    "    def observation_spec(self):\n",
    "        return specs.BoundedArray(shape=(self.num_US + self.num_CS + self.num_distractors),\n",
    "                                  dtype=np.float32,\n",
    "                                  name=\"observation\",\n",
    "                                  minimum=0,\n",
    "                                  maximum=1)\n",
    "\n",
    "    def action_spec(self):\n",
    "        return specs.DiscreteArray(\n",
    "            dtype=int, num_values=0, name=\"action\")\n",
    "\n",
    "\n",
    "class TracePatterning(dm_env.Environment):\n",
    "    def __init__(\n",
    "            self, seed: int, ISI_interval: Tuple[int, int], ITI_interval: Tuple[int, int], gamma: float, num_CS: int,\n",
    "            num_activation_patterns: int, activation_patterns_prob: float, num_distractors: int,\n",
    "            activation_lengths: dict, noise: float):\n",
    "\n",
    "        self.num_US = 1\n",
    "        self.US = Stimulus(activation_lengths[\"US\"])\n",
    "\n",
    "        self.num_CS = num_CS\n",
    "        self.CSs = [Stimulus(activation_lengths[\"CS\"]) for _ in range(self.num_CS)]\n",
    "\n",
    "        self.num_distractors = num_distractors\n",
    "        self.distractors = [Stimulus(activation_lengths[\"distractor\"]) for _ in range(self.num_distractors)]\n",
    "\n",
    "        self.num_activation_patterns = num_activation_patterns\n",
    "        self.activation_patterns_prob = activation_patterns_prob\n",
    "        self.rand_num_generator = np.random.RandomState(seed)\n",
    "        self.activation_patterns = produce_activation_patterns(self.rand_num_generator, self.num_CS,\n",
    "                                                               self.num_activation_patterns)\n",
    "        self.p = ((2 ** self.num_CS) * self.activation_patterns_prob - self.num_activation_patterns) / \\\n",
    "                 (2 ** self.num_CS - self.num_activation_patterns)\n",
    "\n",
    "        self.ISI_interval = ISI_interval\n",
    "        self.ITI_interval = ITI_interval\n",
    "        self.gamma = gamma\n",
    "        self.noise = noise\n",
    "\n",
    "        self.time_step = None\n",
    "        self.trial_start = None\n",
    "\n",
    "    def reset(self):\n",
    "        self.trial_start = 0\n",
    "        self.time_step = 0\n",
    "        self.configure_trial()\n",
    "        self.tick()\n",
    "        return dm_env.restart(self.observation())\n",
    "\n",
    "    def step(self, _):\n",
    "        self.time_step += 1\n",
    "        if self.time_step == self.trial_start:\n",
    "            self.configure_trial()\n",
    "        self.tick()\n",
    "        return dm_env.TimeStep(dm_env.StepType.MID, self.cumulant(), self.gamma,\n",
    "                               self.observation())\n",
    "\n",
    "    def configure_trial(self):\n",
    "        CS_pattern = self.set_CSs()\n",
    "        ISI = self.rand_num_generator.randint(self.ISI_interval[0], self.ISI_interval[1] + 1)\n",
    "        self.set_US(ISI, CS_pattern)\n",
    "        self.set_distractors()\n",
    "        ITI = self.rand_num_generator.randint(self.ITI_interval[0], self.ITI_interval[1] + 1)\n",
    "        self.trial_start = self.time_step + ISI + ITI\n",
    "\n",
    "    def set_CSs(self):\n",
    "        if self.rand_num_generator.rand() < self.p:\n",
    "            CS_pattern = self.activation_patterns[self.rand_num_generator.choice(self.num_activation_patterns), :]\n",
    "        else:\n",
    "            CS_pattern = np.ndarray.astype((self.rand_num_generator.randint(2, size=self.num_CS)), dtype=float)\n",
    "        for c, CS in enumerate(self.CSs):\n",
    "            if CS_pattern[c] == 1:\n",
    "                CS.set_onset(self.time_step)\n",
    "        return CS_pattern\n",
    "\n",
    "    def set_US(self, ISI, CS_pattern):\n",
    "        if np.sum(binary_match(CS_pattern, self.activation_patterns)) > 0:\n",
    "            if self.rand_num_generator.rand() > self.noise:\n",
    "                self.US.set_onset(self.time_step + ISI)\n",
    "        else:\n",
    "            if self.rand_num_generator.rand() < self.noise:\n",
    "                self.US.set_onset(self.time_step + ISI)\n",
    "\n",
    "    def set_distractors(self):\n",
    "        distractor_pattern = np.ndarray.astype((self.rand_num_generator.randint(2, size=self.num_distractors)),\n",
    "                                               dtype=float)\n",
    "        for d, distractor in enumerate(self.distractors):\n",
    "            if distractor_pattern[d]:\n",
    "                distractor.set_onset(self.time_step)\n",
    "\n",
    "    def tick(self):\n",
    "        for c, CS in enumerate(self.CSs):\n",
    "            CS.tick(self.time_step)\n",
    "        self.US.tick(self.time_step)\n",
    "        for d, distractor in enumerate(self.distractors):\n",
    "            distractor.tick(self.time_step)\n",
    "\n",
    "    def cumulant(self):\n",
    "        return self.US.get_value()\n",
    "\n",
    "    def observation(self):\n",
    "        observations = np.zeros(self.num_US + self.num_CS + self.num_distractors)\n",
    "        observations[0] = self.US.get_value()\n",
    "        for c, CS in enumerate(self.CSs):\n",
    "            observations[c + 1] = CS.get_value()\n",
    "        for d, distractor in enumerate(self.distractors):\n",
    "            observations[d + self.num_CS + self.num_US] = distractor.get_value()\n",
    "        return observations\n",
    "\n",
    "    def observation_spec(self):\n",
    "        return specs.BoundedArray(shape=(self.num_US + self.num_CS + self.num_distractors),\n",
    "                                  dtype=np.float32,\n",
    "                                  name=\"observation\",\n",
    "                                  minimum=0,\n",
    "                                  maximum=1)\n",
    "\n",
    "    def action_spec(self):\n",
    "        return specs.DiscreteArray(\n",
    "            dtype=int, num_values=0, name=\"action\")\n",
    "\n",
    "\n",
    "class NoisyPatterning(TracePatterning):\n",
    "    def __init__(\n",
    "            self, seed: int, ISI_interval: Tuple[int, int], ITI_interval: Tuple[int, int], gamma: float, num_CS: int,\n",
    "            num_activation_patterns: int, activation_patterns_prob: float, num_distractors: int,\n",
    "            activation_lengths: dict, noise: float):\n",
    "        super().__init__(seed, ISI_interval, ITI_interval, gamma, num_CS, num_activation_patterns,\n",
    "                         activation_patterns_prob, num_distractors, activation_lengths, noise)\n",
    "        self.ISI_interval = (activation_lengths[\"CS\"], activation_lengths[\"CS\"])\n",
    "\n",
    "\n",
    "def compute_return_error(cumulants, predictions, gamma):\n",
    "    num_time_steps = len(cumulants)\n",
    "    returns = np.zeros(num_time_steps)\n",
    "    returns[-1] = cumulants[-1]\n",
    "    for t in range(num_time_steps - 2, -1, -1):\n",
    "        returns[t] = gamma * returns[t + 1] + cumulants[t]\n",
    "    return_error = (predictions - returns) ** 2\n",
    "    MSRE = return_error.mean()\n",
    "    return MSRE, return_error, returns\n",
    "\n",
    "\n",
    "def produce_activation_patterns(rand_num_generator, num_CS, num_activation_patterns):\n",
    "    activated_indices = list(itertools.combinations(np.arange(num_CS), int(num_CS / 2)))\n",
    "    selected_indices = rand_num_generator.choice(np.arange(len(activated_indices)), size=num_activation_patterns,\n",
    "                                                 replace=False)\n",
    "    activation_patterns = np.zeros((num_activation_patterns, num_CS))\n",
    "    for i in range(num_activation_patterns):\n",
    "        activation_patterns[i, activated_indices[selected_indices[i]]] = 1.0\n",
    "    return activation_patterns\n",
    "\n",
    "\n",
    "def binary_match(x, patterns):\n",
    "    if sum(x) == 0:\n",
    "        ones_match = np.ones(patterns.shape[0])\n",
    "    else:\n",
    "        ones_match = np.floor(np.dot(patterns, x) / sum(x))\n",
    "    if sum(1 - x) == 0:\n",
    "        zeros_match = np.ones(patterns.shape[0])\n",
    "    else:\n",
    "        zeros_match = np.floor(np.dot(1 - patterns, 1 - x) / sum(1 - x))\n",
    "    return ones_match * zeros_match\n"
   ]
  },
  {
   "cell_type": "code",
   "execution_count": 3,
   "id": "bigger-corpus",
   "metadata": {},
   "outputs": [],
   "source": [
    "cfg = {\n",
    "    'NUM_CS' : 1,\n",
    "    'NUM_US' : 1,\n",
    "    'NUM_DIST' : 0,\n",
    "    'ISI_interval' : (3,7),\n",
    "    'ITI_interval' : (80,120),\n",
    "    'LEN_CS' : 4,\n",
    "    'LEN_US' : 2,\n",
    "    'LEN_DIST' : 4,\n",
    "    'ADAMB1' : 0.9,\n",
    "    'ADAMB2' : 0.999,\n",
    "    'ADAME' : 10e-8,\n",
    "    'LAMBDA' : 0,\n",
    "    'N_TRAIN_STEPS' : 40000,\n",
    "    'TBPTT_T' : 10,\n",
    "    'HIDDEN_L_SIZE' : 10,\n",
    "    'STEP_SIZE' : 1e-4,\n",
    "    'INITIAL_STEPS': 100,\n",
    "}\n",
    "cfg['GAMMA'] = 1-1/np.mean(cfg['ISI_interval'])"
   ]
  },
  {
   "cell_type": "code",
   "execution_count": 4,
   "id": "recreational-tower",
   "metadata": {},
   "outputs": [],
   "source": [
    "def plot_last_n(obsall, predall, errors=None, n=1000):\n",
    "    nobs = cfg['NUM_CS'] + cfg['NUM_US'] + cfg['NUM_DIST']\n",
    "\n",
    "    fig, axs = plt.subplots(nobs+3,figsize=(30, 35))\n",
    "    fig.tight_layout()\n",
    "    for i in range(nobs):\n",
    "        axs[i].plot(list(range(n)), obsall[:, i][-n:])\n",
    "\n",
    "    if errors is not None:\n",
    "        axs[-3].plot(list(range(n)), errors[2][-n:] )\n",
    "        axs[-2].plot(list(range(n)), predall[-n:] )\n",
    "        axs[-1].plot(list(range(n)), errors[1][-n:])\n",
    "        print(f'MSE: {errors[0]}')\n",
    "\n",
    "    axs[0].title.set_text('US')\n",
    "    axs[1].title.set_text('CS')\n",
    "    axs[-3].title.set_text('return target')\n",
    "    axs[-2].title.set_text('return prediction')\n",
    "    axs[-1].title.set_text('return error')\n",
    "    for ax in axs:\n",
    "        ax.grid(color='#666666', linestyle='-', alpha=0.5)"
   ]
  },
  {
   "cell_type": "code",
   "execution_count": 5,
   "id": "purple-teaching",
   "metadata": {},
   "outputs": [],
   "source": [
    "device = torch.device(\"cuda:0\" if torch.cuda.is_available() else \"cpu\")"
   ]
  },
  {
   "cell_type": "code",
   "execution_count": 6,
   "id": "organizational-tobago",
   "metadata": {
    "tags": []
   },
   "outputs": [],
   "source": [
    "class LSTM_V(nn.Module):\n",
    "    def __init__(self):\n",
    "        super().__init__()\n",
    "        self.lstm = nn.LSTM(input_size = cfg['NUM_CS'] + cfg['NUM_US'] + cfg['NUM_DIST'],\n",
    "                            hidden_size = cfg['HIDDEN_L_SIZE'],\n",
    "                            num_layers = 1,\n",
    "                            dropout = 0)\n",
    "        self.linear = nn.Linear(cfg['HIDDEN_L_SIZE'], 1)\n",
    "        self.hidden = (torch.randn(1, 1, cfg['HIDDEN_L_SIZE']).to(device),\n",
    "                       torch.randn(1, 1, cfg['HIDDEN_L_SIZE']).to(device))\n",
    "        self.hidden_0 = self.hidden # used to save (h_0, c_0) of last batch\n",
    "        \n",
    "    def reset_hidden(self):\n",
    "        self.hidden = (torch.randn(1, 1, cfg['HIDDEN_L_SIZE']).to(device),\n",
    "                       torch.randn(1, 1, cfg['HIDDEN_L_SIZE']).to(device)) \n",
    "        \n",
    "    def forward(self, obs):\n",
    "        obs = obs.view(len(obs), 1, -1)\n",
    "        lstm_out_0, self.hidden = self.lstm(obs[0].view(1,1,-1), self.hidden_0)\n",
    "        \n",
    "        # save the hidden state (h_0 and c_0) of first element for when the LSTM is called\n",
    "        # so that it can be used when a new batch is passed in\n",
    "        self.hidden_0 = (self.hidden[0].detach(), self.hidden[1].detach())\n",
    "\n",
    "        lstm_out, self.hidden = self.lstm(obs[1:], self.hidden)\n",
    "        lstm_out = torch.cat((lstm_out_0, lstm_out))\n",
    "        \n",
    "        # hidden_size -> 1 for each obs\n",
    "        values = self.linear(lstm_out.view(len(obs), -1))\n",
    "        return values"
   ]
  },
  {
   "cell_type": "code",
   "execution_count": 7,
   "id": "crazy-spank",
   "metadata": {},
   "outputs": [],
   "source": [
    "tc = TraceConditioning(seed=2,\n",
    "                       ISI_interval=cfg['ISI_interval'],\n",
    "                       ITI_interval=cfg['ITI_interval'],\n",
    "                       gamma=cfg['GAMMA'],\n",
    "                       num_distractors=cfg['NUM_DIST'],\n",
    "                       activation_lengths={'CS': cfg['LEN_CS'], 'US': cfg['LEN_US'], 'distractor':cfg['LEN_DIST']})"
   ]
  },
  {
   "cell_type": "code",
   "execution_count": 8,
   "id": "reflected-blanket",
   "metadata": {},
   "outputs": [],
   "source": [
    "model = LSTM_V().to(device)\n",
    "loss = nn.MSELoss()\n",
    "optimizer = torch.optim.Adam(model.parameters(), \n",
    "                             lr=cfg['STEP_SIZE'],\n",
    "                             betas=[cfg['ADAMB1'], \n",
    "                                    cfg['ADAMB2']], \n",
    "                             eps=cfg['ADAME'])\n"
   ]
  },
  {
   "cell_type": "code",
   "execution_count": 9,
   "id": "complex-wednesday",
   "metadata": {
    "scrolled": true,
    "tags": []
   },
   "outputs": [],
   "source": [
    "def train_td(env, model, loss, optimizer):\n",
    "    state = env.reset()\n",
    "    obsall = np.zeros((cfg['N_TRAIN_STEPS'], state.observation.shape[0],))\n",
    "    predall = np.zeros((cfg['N_TRAIN_STEPS']))\n",
    "    t = -1\n",
    "    # take 100 steps at start\n",
    "    for i in range(cfg['INITIAL_STEPS']):\n",
    "        t += 1\n",
    "        step = env.step(_)\n",
    "        obsall[t] = step.observation\n",
    "        predall[t] = 0\n",
    "\n",
    "    for i in tqdm(range(cfg['N_TRAIN_STEPS'] - cfg['INITIAL_STEPS'])):\n",
    "        t += 1\n",
    "        step_new = env.step(_)\n",
    "        obsall[t] = step_new.observation\n",
    "\n",
    "        # get V_t-T .... V_t.\n",
    "        V_t = model(torch.FloatTensor(obsall[t-cfg['TBPTT_T']: t+1]).to(device))\n",
    "\n",
    "        # get the next step prediction (V_t+1) for each step (V_t)\n",
    "        V_tp1 = V_t[1:]\n",
    "        # get the reward obtained (US_t+1) for going to next step\n",
    "        US_tp1 = torch.tensor(\n",
    "            obsall[t-cfg['TBPTT_T']+1: t+1][:,0]\n",
    "        ).view(-1,1).to(device)\n",
    "\n",
    "        # dont use gradient when calculating the TD target\n",
    "        # For each value prediction V_t at step t, we use US_t+1 and V_t+1 to calculate TD target\n",
    "        with torch.no_grad():\n",
    "            td_target = US_tp1 + cfg['GAMMA'] * V_tp1\n",
    "\n",
    "        # V_t also includes the prediction for o_t, so we remove it from here.\n",
    "        # It is only used to calculate the TD target for o_t-1 previously\n",
    "        td_error = loss(V_t[:-1], td_target.float())\n",
    "        td_error.backward()\n",
    "        optimizer.step()\n",
    "\n",
    "        if i % 1000 == 0:\n",
    "            print(f'TD Error at t:{i} = {td_error}')\n",
    "\n",
    "        # Store the value prediction belonging to o_t\n",
    "        predall[t] = V_tp1[-1].detach().item()\n",
    "        \n",
    "    return obsall, predall"
   ]
  },
  {
   "cell_type": "code",
   "execution_count": 10,
   "id": "processed-parcel",
   "metadata": {
    "scrolled": true,
    "tags": []
   },
   "outputs": [
    {
     "name": "stderr",
     "output_type": "stream",
     "text": [
      "  0%|          | 129/39900 [00:00<01:01, 647.93it/s]"
     ]
    },
    {
     "name": "stdout",
     "output_type": "stream",
     "text": [
      "TD Error at t:0 = 0.09583814442157745\n"
     ]
    },
    {
     "name": "stderr",
     "output_type": "stream",
     "text": [
      "  3%|▎         | 1127/39900 [00:01<00:56, 682.91it/s]"
     ]
    },
    {
     "name": "stdout",
     "output_type": "stream",
     "text": [
      "TD Error at t:1000 = 2.1583389752777293e-05\n"
     ]
    },
    {
     "name": "stderr",
     "output_type": "stream",
     "text": [
      "  5%|▌         | 2146/39900 [00:03<00:51, 729.22it/s]"
     ]
    },
    {
     "name": "stdout",
     "output_type": "stream",
     "text": [
      "TD Error at t:2000 = 0.00021072693925816566\n"
     ]
    },
    {
     "name": "stderr",
     "output_type": "stream",
     "text": [
      "  8%|▊         | 3093/39900 [00:04<00:51, 709.28it/s]"
     ]
    },
    {
     "name": "stdout",
     "output_type": "stream",
     "text": [
      "TD Error at t:3000 = 0.03694143891334534\n"
     ]
    },
    {
     "name": "stderr",
     "output_type": "stream",
     "text": [
      " 10%|█         | 4112/39900 [00:05<00:48, 731.83it/s]"
     ]
    },
    {
     "name": "stdout",
     "output_type": "stream",
     "text": [
      "TD Error at t:4000 = 0.000366038380889222\n"
     ]
    },
    {
     "name": "stderr",
     "output_type": "stream",
     "text": [
      " 13%|█▎        | 5143/39900 [00:07<00:48, 723.76it/s]"
     ]
    },
    {
     "name": "stdout",
     "output_type": "stream",
     "text": [
      "TD Error at t:5000 = 0.0003190675051882863\n"
     ]
    },
    {
     "name": "stderr",
     "output_type": "stream",
     "text": [
      " 15%|█▌        | 6106/39900 [00:08<00:45, 738.20it/s]"
     ]
    },
    {
     "name": "stdout",
     "output_type": "stream",
     "text": [
      "TD Error at t:6000 = 0.0006079530576243997\n"
     ]
    },
    {
     "name": "stderr",
     "output_type": "stream",
     "text": [
      " 18%|█▊        | 7129/39900 [00:09<00:45, 722.14it/s]"
     ]
    },
    {
     "name": "stdout",
     "output_type": "stream",
     "text": [
      "TD Error at t:7000 = 2.824461626005359e-05\n"
     ]
    },
    {
     "name": "stderr",
     "output_type": "stream",
     "text": [
      " 20%|██        | 8078/39900 [00:11<00:44, 715.58it/s]"
     ]
    },
    {
     "name": "stdout",
     "output_type": "stream",
     "text": [
      "TD Error at t:8000 = 0.000405623868573457\n"
     ]
    },
    {
     "name": "stderr",
     "output_type": "stream",
     "text": [
      " 23%|██▎       | 9086/39900 [00:12<00:43, 715.30it/s]"
     ]
    },
    {
     "name": "stdout",
     "output_type": "stream",
     "text": [
      "TD Error at t:9000 = 0.0003294379566796124\n"
     ]
    },
    {
     "name": "stderr",
     "output_type": "stream",
     "text": [
      " 25%|██▌       | 10114/39900 [00:14<00:41, 713.75it/s]"
     ]
    },
    {
     "name": "stdout",
     "output_type": "stream",
     "text": [
      "TD Error at t:10000 = 5.461820819618879e-06\n"
     ]
    },
    {
     "name": "stderr",
     "output_type": "stream",
     "text": [
      " 28%|██▊       | 11141/39900 [00:15<00:39, 722.59it/s]"
     ]
    },
    {
     "name": "stdout",
     "output_type": "stream",
     "text": [
      "TD Error at t:11000 = 0.00010876921442104504\n"
     ]
    },
    {
     "name": "stderr",
     "output_type": "stream",
     "text": [
      " 30%|███       | 12081/39900 [00:16<00:38, 724.71it/s]"
     ]
    },
    {
     "name": "stdout",
     "output_type": "stream",
     "text": [
      "TD Error at t:12000 = 4.011832788819447e-05\n"
     ]
    },
    {
     "name": "stderr",
     "output_type": "stream",
     "text": [
      " 33%|███▎      | 13100/39900 [00:18<00:36, 725.15it/s]"
     ]
    },
    {
     "name": "stdout",
     "output_type": "stream",
     "text": [
      "TD Error at t:13000 = 6.905506597831845e-05\n"
     ]
    },
    {
     "name": "stderr",
     "output_type": "stream",
     "text": [
      " 35%|███▌      | 14119/39900 [00:19<00:35, 729.67it/s]"
     ]
    },
    {
     "name": "stdout",
     "output_type": "stream",
     "text": [
      "TD Error at t:14000 = 0.0013591728638857603\n"
     ]
    },
    {
     "name": "stderr",
     "output_type": "stream",
     "text": [
      " 38%|███▊      | 15139/39900 [00:21<00:34, 723.90it/s]"
     ]
    },
    {
     "name": "stdout",
     "output_type": "stream",
     "text": [
      "TD Error at t:15000 = 0.00041500161751173437\n"
     ]
    },
    {
     "name": "stderr",
     "output_type": "stream",
     "text": [
      " 40%|████      | 16082/39900 [00:22<00:33, 712.44it/s]"
     ]
    },
    {
     "name": "stdout",
     "output_type": "stream",
     "text": [
      "TD Error at t:16000 = 0.00033105278271250427\n"
     ]
    },
    {
     "name": "stderr",
     "output_type": "stream",
     "text": [
      " 43%|████▎     | 17090/39900 [00:23<00:31, 729.90it/s]"
     ]
    },
    {
     "name": "stdout",
     "output_type": "stream",
     "text": [
      "TD Error at t:17000 = 0.00022612301108893007\n"
     ]
    },
    {
     "name": "stderr",
     "output_type": "stream",
     "text": [
      " 45%|████▌     | 18111/39900 [00:25<00:29, 729.95it/s]"
     ]
    },
    {
     "name": "stdout",
     "output_type": "stream",
     "text": [
      "TD Error at t:18000 = 0.0018171732081100345\n"
     ]
    },
    {
     "name": "stderr",
     "output_type": "stream",
     "text": [
      " 48%|████▊     | 19141/39900 [00:26<00:28, 721.86it/s]"
     ]
    },
    {
     "name": "stdout",
     "output_type": "stream",
     "text": [
      "TD Error at t:19000 = 0.0008867716533131897\n"
     ]
    },
    {
     "name": "stderr",
     "output_type": "stream",
     "text": [
      " 50%|█████     | 20086/39900 [00:28<00:27, 727.60it/s]"
     ]
    },
    {
     "name": "stdout",
     "output_type": "stream",
     "text": [
      "TD Error at t:20000 = 0.0012851423816755414\n"
     ]
    },
    {
     "name": "stderr",
     "output_type": "stream",
     "text": [
      " 53%|█████▎    | 21105/39900 [00:29<00:25, 733.17it/s]"
     ]
    },
    {
     "name": "stdout",
     "output_type": "stream",
     "text": [
      "TD Error at t:21000 = 2.111828507622704e-06\n"
     ]
    },
    {
     "name": "stderr",
     "output_type": "stream",
     "text": [
      " 55%|█████▌    | 22057/39900 [00:30<00:25, 701.81it/s]"
     ]
    },
    {
     "name": "stdout",
     "output_type": "stream",
     "text": [
      "TD Error at t:22000 = 1.6403002689457935e-07\n"
     ]
    },
    {
     "name": "stderr",
     "output_type": "stream",
     "text": [
      " 58%|█████▊    | 23106/39900 [00:32<00:23, 716.97it/s]"
     ]
    },
    {
     "name": "stdout",
     "output_type": "stream",
     "text": [
      "TD Error at t:23000 = 0.06928103417158127\n"
     ]
    },
    {
     "name": "stderr",
     "output_type": "stream",
     "text": [
      " 60%|██████    | 24098/39900 [00:33<00:22, 690.42it/s]"
     ]
    },
    {
     "name": "stdout",
     "output_type": "stream",
     "text": [
      "TD Error at t:24000 = 7.674093467358034e-07\n"
     ]
    },
    {
     "name": "stderr",
     "output_type": "stream",
     "text": [
      " 63%|██████▎   | 25114/39900 [00:35<00:20, 725.38it/s]"
     ]
    },
    {
     "name": "stdout",
     "output_type": "stream",
     "text": [
      "TD Error at t:25000 = 9.167951247945894e-06\n"
     ]
    },
    {
     "name": "stderr",
     "output_type": "stream",
     "text": [
      " 66%|██████▌   | 26140/39900 [00:36<00:18, 724.48it/s]"
     ]
    },
    {
     "name": "stdout",
     "output_type": "stream",
     "text": [
      "TD Error at t:26000 = 0.0003663022362161428\n"
     ]
    },
    {
     "name": "stderr",
     "output_type": "stream",
     "text": [
      " 68%|██████▊   | 27078/39900 [00:38<00:17, 715.81it/s]"
     ]
    },
    {
     "name": "stdout",
     "output_type": "stream",
     "text": [
      "TD Error at t:27000 = 0.0002909096365328878\n"
     ]
    },
    {
     "name": "stderr",
     "output_type": "stream",
     "text": [
      " 70%|███████   | 28105/39900 [00:39<00:16, 717.92it/s]"
     ]
    },
    {
     "name": "stdout",
     "output_type": "stream",
     "text": [
      "TD Error at t:28000 = 0.00011876283679157495\n"
     ]
    },
    {
     "name": "stderr",
     "output_type": "stream",
     "text": [
      " 73%|███████▎  | 29128/39900 [00:40<00:14, 721.80it/s]"
     ]
    },
    {
     "name": "stdout",
     "output_type": "stream",
     "text": [
      "TD Error at t:29000 = 3.384773663128726e-05\n"
     ]
    },
    {
     "name": "stderr",
     "output_type": "stream",
     "text": [
      " 76%|███████▌  | 30147/39900 [00:42<00:13, 728.77it/s]"
     ]
    },
    {
     "name": "stdout",
     "output_type": "stream",
     "text": [
      "TD Error at t:30000 = 6.44434621790424e-05\n"
     ]
    },
    {
     "name": "stderr",
     "output_type": "stream",
     "text": [
      " 78%|███████▊  | 31088/39900 [00:43<00:12, 693.81it/s]"
     ]
    },
    {
     "name": "stdout",
     "output_type": "stream",
     "text": [
      "TD Error at t:31000 = 0.00017472545732744038\n"
     ]
    },
    {
     "name": "stderr",
     "output_type": "stream",
     "text": [
      " 80%|████████  | 32107/39900 [00:45<00:10, 730.51it/s]"
     ]
    },
    {
     "name": "stdout",
     "output_type": "stream",
     "text": [
      "TD Error at t:32000 = 0.00019014881399925798\n"
     ]
    },
    {
     "name": "stderr",
     "output_type": "stream",
     "text": [
      " 83%|████████▎ | 33132/39900 [00:46<00:09, 697.70it/s]"
     ]
    },
    {
     "name": "stdout",
     "output_type": "stream",
     "text": [
      "TD Error at t:33000 = 0.0841360092163086\n"
     ]
    },
    {
     "name": "stderr",
     "output_type": "stream",
     "text": [
      " 85%|████████▌ | 34083/39900 [00:47<00:07, 734.38it/s]"
     ]
    },
    {
     "name": "stdout",
     "output_type": "stream",
     "text": [
      "TD Error at t:34000 = 0.0001963706308742985\n"
     ]
    },
    {
     "name": "stderr",
     "output_type": "stream",
     "text": [
      " 88%|████████▊ | 35106/39900 [00:49<00:06, 728.02it/s]"
     ]
    },
    {
     "name": "stdout",
     "output_type": "stream",
     "text": [
      "TD Error at t:35000 = 1.9271037672297098e-06\n"
     ]
    },
    {
     "name": "stderr",
     "output_type": "stream",
     "text": [
      " 91%|█████████ | 36135/39900 [00:50<00:05, 729.90it/s]"
     ]
    },
    {
     "name": "stdout",
     "output_type": "stream",
     "text": [
      "TD Error at t:36000 = 2.2221538529265672e-05\n"
     ]
    },
    {
     "name": "stderr",
     "output_type": "stream",
     "text": [
      " 93%|█████████▎| 37082/39900 [00:52<00:03, 716.34it/s]"
     ]
    },
    {
     "name": "stdout",
     "output_type": "stream",
     "text": [
      "TD Error at t:37000 = 4.489966158871539e-05\n"
     ]
    },
    {
     "name": "stderr",
     "output_type": "stream",
     "text": [
      " 96%|█████████▌| 38111/39900 [00:53<00:02, 731.69it/s]"
     ]
    },
    {
     "name": "stdout",
     "output_type": "stream",
     "text": [
      "TD Error at t:38000 = 6.965945067349821e-05\n"
     ]
    },
    {
     "name": "stderr",
     "output_type": "stream",
     "text": [
      " 98%|█████████▊| 39140/39900 [00:54<00:01, 720.61it/s]"
     ]
    },
    {
     "name": "stdout",
     "output_type": "stream",
     "text": [
      "TD Error at t:39000 = 0.00018883011944126338\n"
     ]
    },
    {
     "name": "stderr",
     "output_type": "stream",
     "text": [
      "100%|██████████| 39900/39900 [00:56<00:00, 712.46it/s]\n"
     ]
    }
   ],
   "source": [
    "obsall, predall = train_td(tc, model, loss, optimizer)\n",
    "errors = compute_return_error(obsall[:,0], predall, cfg['GAMMA'])"
   ]
  },
  {
   "cell_type": "code",
   "execution_count": 11,
   "id": "interstate-philippines",
   "metadata": {},
   "outputs": [
    {
     "name": "stdout",
     "output_type": "stream",
     "text": [
      "MSE: 0.04190517299648628\n"
     ]
    },
    {
     "data": {
      "image/png": "[encoded data removed]",
      "text/plain": [
       "<Figure size 2160x2520 with 5 Axes>"
      ]
     },
     "metadata": {
      "needs_background": "light"
     },
     "output_type": "display_data"
    }
   ],
   "source": [
    "plot_last_n(obsall, predall, errors, n=120)"
   ]
  }
 ],
 "metadata": {
  "kernelspec": {
   "display_name": "Python 3",
   "language": "python",
   "name": "python3"
  },
  "language_info": {
   "codemirror_mode": {
    "name": "ipython",
    "version": 3
   },
   "file_extension": ".py",
   "mimetype": "text/x-python",
   "name": "python",
   "nbconvert_exporter": "python",
   "pygments_lexer": "ipython3",
   "version": "3.9.2"
  }
 },
 "nbformat": 4,
 "nbformat_minor": 5
}
